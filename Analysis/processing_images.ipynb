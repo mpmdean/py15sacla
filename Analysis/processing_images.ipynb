{
 "cells": [
  {
   "cell_type": "code",
   "execution_count": 13,
   "metadata": {},
   "outputs": [],
   "source": [
    "import numpy as np\n",
    "import os\n",
    "from numpy.random import rand\n",
    "import matplotlib.pyplot as plt\n",
    "import h5py\n",
    "from py15sacla import hdfselection\n",
    "from glob import glob\n",
    "\n",
    "%matplotlib inline"
   ]
  },
  {
   "cell_type": "markdown",
   "metadata": {},
   "source": [
    "## create test data"
   ]
  },
  {
   "cell_type": "code",
   "execution_count": 14,
   "metadata": {},
   "outputs": [],
   "source": [
    "runs = 52 + np.arange(10)\n",
    "tags_per_run = 500\n",
    "start_tag = 4923\n",
    "background = 42\n",
    "t_start = -5\n",
    "t_end = 10\n",
    "\n",
    "tags = [['{:d}'.format(i+start_tag+j*tags_per_run) for i in range(tags_per_run)]\n",
    "        for j, _ in enumerate(runs)]\n",
    "\n",
    "tags_flat = [tag for tagset in tags for tag in tagset]\n",
    "\n",
    "delays = np.array([t_start + rand(tags_per_run) * (t_end - t_start)\n",
    "                   for _ in runs])\n",
    "\n",
    "delays_flat = delays.flatten()\n",
    "\n",
    "def peak(X, Y, t):\n",
    "    I0 = np.exp(-t)\n",
    "    if t <0:\n",
    "        I0 = 1\n",
    "    \n",
    "    I = 100 * I0 * np.exp( -np.sqrt((X-70)**2 + (Y-80)**2)/20)\n",
    "    for _ in range(5):\n",
    "        I[int(I.shape[0]*rand(1)),int(I.shape[1]*rand(1))] += 200\n",
    "        I[int(I.shape[0]*rand(1)),int(I.shape[1]*rand(1))] -= 300\n",
    "    return I\n",
    "\n",
    "Y, X = np.meshgrid(np.arange(200), np.arange(330))\n",
    "background = X*0 + 42.\n",
    "\n",
    "\n",
    "for run, tagset, delayset in zip(runs, tags, delays):\n",
    "    try:\n",
    "        with h5py.File('run_{}.h5'.format(run), 'x') as h5file:\n",
    "            h5file.create_dataset('life_universe_everything', data=42)\n",
    "            for tag, delay in zip(tagset, delayset):\n",
    "                h5file.create_dataset('run_{}/detector/tag_{}'.format(run, tag),\n",
    "                                      data=peak(X, Y, delay) + background)\n",
    "            h5file.close()\n",
    "    except OSError:\n",
    "        pass"
   ]
  },
  {
   "cell_type": "markdown",
   "metadata": {},
   "source": [
    "## Define processing timing backgroud thresholds"
   ]
  },
  {
   "cell_type": "code",
   "execution_count": 15,
   "metadata": {},
   "outputs": [],
   "source": [
    "thresholds = (0, 200)\n",
    "tophotons = 1\n",
    "ROI = np.s_[30:130, 20:120]\n",
    "delays_bin_edges = np.arange(t_start, t_end, 0.5)\n",
    "delays_bin_centers = (delays_bin_edges[:-1] + delays_bin_edges[1:])/2"
   ]
  },
  {
   "cell_type": "markdown",
   "metadata": {},
   "source": [
    "## select some tags"
   ]
  },
  {
   "cell_type": "code",
   "execution_count": null,
   "metadata": {},
   "outputs": [],
   "source": [
    "h5sel_all = [hdfselection.HDFSelection(filename, 'r')['/detector/']\n",
    "             for filename in glob(\"run_*.h5\")]\n",
    "                                      \n",
    "def filter_tags(hdfsel, delay_start, delay_end, tags_flat, delays_flat):\n",
    "    hdfout = hdfsel.copy()\n",
    "    tags_to_get = [tag for tag, delay in zip(tags_flat, delays_flat)\n",
    "                   if delay_start < delay <= delay_end]\n",
    "    hdfout._datanames = [n for n in hdfout._datanames\n",
    "                if any(d in n for d in tags_to_get)]\n",
    "    return hdfout\n",
    "\n",
    "\n",
    "h5sels_delays = [[filter_tags(hdfsel, delay_start, delay_end, tags_flat, delays_flat)\n",
    "                 for hdfsel in h5sel_all]\n",
    "                for delay_start, delay_end in zip(delays_bin_edges[:-1], delays_bin_edges[1:])]\n",
    "\n",
    "#images = np.array([h.value for h5sel in h5sel_tags for h in h5sel])"
   ]
  },
  {
   "cell_type": "code",
   "execution_count": null,
   "metadata": {},
   "outputs": [],
   "source": [
    "def correct_frame(frame, background, thresholds, ROI, tophotons):\n",
    "    frame -= background\n",
    "    frame = frame[ROI]\n",
    "    frame[frame<thresholds[0]] = 0\n",
    "    frame[frame>thresholds[1]] = 0\n",
    "    frame *= tophotons\n",
    "    return frame\n",
    "    \n",
    "def h5sel_to_image(h5sel, background, thresholds, ROI, tophotons):\n",
    "    if len(h5sel) >1:\n",
    "        image = sum(correct_frame(HDF5_dataset, background, thresholds, ROI, tophotons)\n",
    "                    for HDF5_dataset in h5sel.datasets) / len(h5sel)\n",
    "    else:\n",
    "        raise Warning(\"Check if there are delays in this bin. Returning Nan\")\n",
    "        image = np.NaN\n",
    "        \n",
    "    return image\n",
    "\n",
    "images = np.array([sum(h5sel_to_image(h5sel, background, thresholds, ROI, tophotons)\n",
    "                       for h5sel in h5sels) / len(h5sels)\n",
    "                   for h5sels in h5sels_delays])\n",
    "\n"
   ]
  },
  {
   "cell_type": "markdown",
   "metadata": {},
   "source": [
    "## confirm this worked"
   ]
  },
  {
   "cell_type": "code",
   "execution_count": null,
   "metadata": {},
   "outputs": [],
   "source": [
    "fig, axs = plt.subplots(2,2)\n",
    "\n",
    "axs[0,0].plot(delays_bin_centers, images.mean(axis=(1,2)), 'o')\n",
    "axs[0,0].set_xlabel('Time delay')\n",
    "axs[0,0].set_ylabel('I')\n",
    "\n",
    "for ax, choose in zip([ax for ax in axs.ravel() if ax is not axs[0,0]], [1, 11, 16]):\n",
    "    art = ax.imshow(images[choose])\n",
    "    plt.colorbar(art, ax=ax)\n",
    "    ax.set_title(\"Delay {:.2} ps\".format(delays_bin_centers[choose]))\n",
    "\n",
    "fig.subplots_adjust(hspace=0.5)"
   ]
  }
 ],
 "metadata": {
  "kernelspec": {
   "display_name": "Python 3",
   "language": "python",
   "name": "python3"
  },
  "language_info": {
   "codemirror_mode": {
    "name": "ipython",
    "version": 3
   },
   "file_extension": ".py",
   "mimetype": "text/x-python",
   "name": "python",
   "nbconvert_exporter": "python",
   "pygments_lexer": "ipython3",
   "version": "3.6.1"
  }
 },
 "nbformat": 4,
 "nbformat_minor": 2
}
